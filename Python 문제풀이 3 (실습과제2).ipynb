{
 "cells": [
  {
   "cell_type": "markdown",
   "metadata": {},
   "source": [
    "### 1. 두 개의 자연수(정수)를 입력, 더 큰 정수 출력"
   ]
  },
  {
   "cell_type": "markdown",
   "metadata": {},
   "source": [
    "###### 1-1. input 으로 정수 a, b를 받기\n",
    "###### 1-2. input으로 받은 값은 문자열\n",
    "###### 1-3. 숫자 비교를 위해 input에 int씌우기\n",
    "###### 2-1. if 문을 사용해 크기 비교 후 더 큰 것 출력\n",
    "###### 2-2. if 문으로 a값이 큰 경우를, elif로 반대의 경우를, 그렇지 않으면 값이 같은 경우를 나타냄"
   ]
  },
  {
   "cell_type": "code",
   "execution_count": 9,
   "metadata": {},
   "outputs": [
    {
     "name": "stdout",
     "output_type": "stream",
     "text": [
      "2와 3중 더 큰 숫자는 3 입니다.\n"
     ]
    }
   ],
   "source": [
    "def Mm() :\n",
    "    a = int(input('정수 입력 : '))\n",
    "    b = int(input('정수 입력 : '))\n",
    "    if a > b :\n",
    "        print(f'{a}와 {b}중 더 큰 숫자는 {a} 입니다.')\n",
    "    elif b > a :\n",
    "        print(f'{a}와 {b}중 더 큰 숫자는 {b} 입니다.')\n",
    "    else :\n",
    "        print(\"값이 같 습니다. 다시 실행해 주세요\")\n",
    "Mm()"
   ]
  },
  {
   "cell_type": "markdown",
   "metadata": {},
   "source": [
    "### 2. 1부터 100까지의 자연수를 모두 구하는 코드"
   ]
  },
  {
   "cell_type": "markdown",
   "metadata": {},
   "source": [
    "###### 1-1. 범위 내 값을 넣을 리스트를 만듬\n",
    "###### 1-2. int를 씌은 input을 이용해 숫자열 값을 입력 받음\n",
    "###### 2-1. 입력받은 값은 for문의 범위로 넣음\n",
    "###### 2-2. 이때 range의 범위는 마지막 값이 -1 이므로 +1을 해줌\n",
    "###### 2-3. for문 범위내 i값을 전부 준비한 리스트에 넣음\n",
    "###### 3. sum을 이용해 리스트 내 모든 값을 더해 범위내 모든 자연수의 합을 구함"
   ]
  },
  {
   "cell_type": "code",
   "execution_count": 10,
   "metadata": {},
   "outputs": [
    {
     "name": "stdout",
     "output_type": "stream",
     "text": [
      "입렵 범위는 1~100 이고 범위 내 정수의 합은 5050 입니다.\n"
     ]
    }
   ],
   "source": [
    "list_ = []\n",
    "def add_() :\n",
    "    a = int(input('시작 정수 입력 : '))\n",
    "    b = int(input('끝 정수 입력 : '))\n",
    "    for i in range(a, b + 1) :\n",
    "        list_.append(i)\n",
    "    listadd = sum(list_)\n",
    "    print(f'입렵 범위는 {a}~{b} 이고 범위 내 정수의 합은 {listadd} 입니다.')\n",
    "add_()"
   ]
  },
  {
   "cell_type": "markdown",
   "metadata": {},
   "source": [
    "### 3. 동전 던지기 게임 - 앞면 뒷면"
   ]
  },
  {
   "cell_type": "markdown",
   "metadata": {},
   "source": [
    "###### 1-1. 동전 던지기의 랜덤성을 구현하기 위해 import random\n",
    "###### 1-2. radom.randrange(1,3)으로 1과2 사이의 랜덤한 수가 나오게 함\n",
    "###### 2. if문을 사용해 1이 나오면 앞면으로 지정, 자연스레 2가 뒷면으로 지정"
   ]
  },
  {
   "cell_type": "code",
   "execution_count": 44,
   "metadata": {},
   "outputs": [
    {
     "name": "stdout",
     "output_type": "stream",
     "text": [
      "tail\n"
     ]
    }
   ],
   "source": [
    "import random\n",
    "def COIN() :\n",
    "    a = random.randrange(1,3)\n",
    "    if a == 1 :\n",
    "        print('head')\n",
    "    else :\n",
    "        print('tail')\n",
    "COIN()\n"
   ]
  }
 ],
 "metadata": {
  "kernelspec": {
   "display_name": "Python 3",
   "language": "python",
   "name": "python3"
  },
  "language_info": {
   "codemirror_mode": {
    "name": "ipython",
    "version": 3
   },
   "file_extension": ".py",
   "mimetype": "text/x-python",
   "name": "python",
   "nbconvert_exporter": "python",
   "pygments_lexer": "ipython3",
   "version": "3.12.2"
  }
 },
 "nbformat": 4,
 "nbformat_minor": 2
}
