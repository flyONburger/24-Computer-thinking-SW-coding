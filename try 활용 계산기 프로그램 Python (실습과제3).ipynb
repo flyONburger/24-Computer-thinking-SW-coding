{
 "cells": [
  {
   "cell_type": "markdown",
   "metadata": {},
   "source": [
    "### try를 활용한 계산 프로그램(나누기)"
   ]
  },
  {
   "cell_type": "markdown",
   "metadata": {},
   "source": [
    "###### 1-1. 오류(예외)가 날 수 있는 코드를 try 않에 넣는다.\n",
    "###### 1-2. a, b로 두 숫자를 입력하고 연산자를 operat에 input으로 입력한다.\n",
    "###### 2-1. if 문을 사용해 일치하는 연산자를 찾아 그에 맞는 연산을 시작한다.\n",
    "###### 2-2. 만약 연산자가 if문에 걸러지지 않는 경우 \"연산자를 다시 입력해 주세요\"라는 문구와 함께 다시 시작.\n",
    "###### 3-1. except에 예외상항시 나타낼 문구르 적어 놓는다.\n",
    "###### 4-1. 연산이 성공하면 print(f'{}')를 통해 연산식을 나타낸다.\n",
    "###### 4-2. finally를 사용하여 calculation completed문구를 띄운다."
   ]
  },
  {
   "cell_type": "code",
   "execution_count": 2,
   "metadata": {},
   "outputs": [
    {
     "name": "stdout",
     "output_type": "stream",
     "text": [
      "4 + 5 = 9\n",
      "calculation completed\n"
     ]
    }
   ],
   "source": [
    "def operation() :\n",
    "  try :\n",
    "    a, b = map(int, input(\"숫자 두개를 입력해주세요\").split())\n",
    "    operat = input(\"+, -, /, * 중 하나 입력\")\n",
    "\n",
    "    if operat == '+' :\n",
    "      c = a + b\n",
    "    elif operat == '-' :\n",
    "      c = a - b\n",
    "    elif operat == '/' :\n",
    "      c = a / b\n",
    "    elif operat == '*' :\n",
    "      c = a * b\n",
    "    else :\n",
    "      print(\"연산자를 다시 입력해 주세요.\")\n",
    "      return\n",
    "  except:\n",
    "    print(\"입력한 숫자를 확인해 주세요\")\n",
    "  else :\n",
    "    print(f'{a} {operat} {b} = {c}')\n",
    "  finally:\n",
    "    print(\"calculation completed\")\n",
    "\n",
    "operation()"
   ]
  }
 ],
 "metadata": {
  "kernelspec": {
   "display_name": "Python 3",
   "language": "python",
   "name": "python3"
  },
  "language_info": {
   "codemirror_mode": {
    "name": "ipython",
    "version": 3
   },
   "file_extension": ".py",
   "mimetype": "text/x-python",
   "name": "python",
   "nbconvert_exporter": "python",
   "pygments_lexer": "ipython3",
   "version": "3.12.2"
  }
 },
 "nbformat": 4,
 "nbformat_minor": 2
}
