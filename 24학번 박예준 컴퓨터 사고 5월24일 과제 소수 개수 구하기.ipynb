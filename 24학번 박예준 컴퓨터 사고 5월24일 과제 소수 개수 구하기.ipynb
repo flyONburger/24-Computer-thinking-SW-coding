{
 "cells": [
  {
   "cell_type": "markdown",
   "metadata": {},
   "source": [
    "주어진 숫자 중 3개의 수를 더했을 때 소수가 되는 경우의 개수를 구하려고 합니다. \n",
    "숫자들이 들어있는 배열 nums가 매개변수로 주어질 때, \n",
    "nums에 있는 숫자들 중 서로 다른 3개를 골라 더했을 때 \n",
    "소수가 되는 경우의 개수를 return 하도록 solution 함수를 완성해주세요.\n",
    "제한사항\n",
    "nums에 들어있는 숫자의 개수는 3개 이상 50개 이하입니다.\n",
    "nums의 각 원소는 1 이상 1,000 이하의 자연수이며, 중복된 숫자가 들어있지 않습니다."
   ]
  },
  {
   "cell_type": "code",
   "execution_count": 11,
   "metadata": {},
   "outputs": [
    {
     "name": "stdout",
     "output_type": "stream",
     "text": [
      "7\n"
     ]
    }
   ],
   "source": [
    "def ss(num):\n",
    "    if num <= 1:\n",
    "        return False\n",
    "    for i in range(2, int(num ** 0.5) + 1):\n",
    "        if num % i == 0:\n",
    "            return False\n",
    "    return True\n",
    "\n",
    "def solution(n):\n",
    "    listset = set()\n",
    "\n",
    "    from itertools import combinations as cb\n",
    "    list_ = []\n",
    "    num = n\n",
    "\n",
    "    for i, j, k in cb(num, 3):\n",
    "        a = i + j + k\n",
    "        if ss(a):\n",
    "            listset.add(a)\n",
    "\n",
    "    list_ = list(listset)\n",
    "    return len(list_)\n",
    "\n",
    "num= [1, 2, 3, 4, 5, 6, 7, 8, 9,10]\n",
    "print(solution(num))"
   ]
  },
  {
   "cell_type": "markdown",
   "metadata": {},
   "source": [
    "숫자 리스트에서 서로 다른 3개의 수를 골라 더했을 때 소수가 되는 경우의 개수를 구하는 코드.\n",
    "\n",
    "ss(num) 함수는 주어진 숫자가 소수인지를 판별하는 함수문법\n",
    "\n",
    "solution(n) 함수는 주어진 숫자 리스트 n에서 서로 다른 3개의 수를 골라 더했을 때 소수가 되는 경우의 개수를 구한다. itertools 모듈의 combinations 함수를 사용하여 3개의 수의 조합을 만들고, 조합을 합해 그 합이 소수인지를 판별하여 개수를 세고 반환."
   ]
  }
 ],
 "metadata": {
  "kernelspec": {
   "display_name": "Python 3",
   "language": "python",
   "name": "python3"
  },
  "language_info": {
   "codemirror_mode": {
    "name": "ipython",
    "version": 3
   },
   "file_extension": ".py",
   "mimetype": "text/x-python",
   "name": "python",
   "nbconvert_exporter": "python",
   "pygments_lexer": "ipython3",
   "version": "3.12.2"
  }
 },
 "nbformat": 4,
 "nbformat_minor": 2
}
